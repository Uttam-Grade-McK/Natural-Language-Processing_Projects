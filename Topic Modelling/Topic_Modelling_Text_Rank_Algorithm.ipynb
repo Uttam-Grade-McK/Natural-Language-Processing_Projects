{
 "cells": [
  {
   "cell_type": "markdown",
   "metadata": {},
   "source": [
    "Text rank algorithm is use for Summarization of the text like a inshots app\n",
    "used methods like the presence of cue words, words used in the title appearing in the text, and the location of sentences, to extract significant sentences for text summarization. Since then, many important and exciting studies have been published to address the challenge of automatic text summarization."
   ]
  },
  {
   "cell_type": "code",
   "execution_count": 15,
   "metadata": {},
   "outputs": [],
   "source": [
    "import pandas as pd\n",
    "import numpy as np\n",
    "import os, json"
   ]
  },
  {
   "cell_type": "code",
   "execution_count": 16,
   "metadata": {},
   "outputs": [],
   "source": [
    "path = '/Users/kiwi/Downloads/Data Scientist/Edureka_Projects/corpusd_cleandata'\n",
    "df = [i for i in os.listdir(path) if i.endswith('.json')]"
   ]
  },
  {
   "cell_type": "code",
   "execution_count": 17,
   "metadata": {},
   "outputs": [],
   "source": [
    "data = pd.DataFrame()\n",
    "file = [i for i in os.listdir(path) if i.endswith('.json')]\n",
    "for k in file:\n",
    "    with open(path + '/'+ k) as f:\n",
    "        json_data1 = json.load(f)\n",
    "        data = data.append(json_data1, ignore_index = True)\n",
    "#data.head()\n"
   ]
  },
  {
   "cell_type": "code",
   "execution_count": 58,
   "metadata": {},
   "outputs": [],
   "source": [
    "text = data['text'][0]"
   ]
  },
  {
   "cell_type": "markdown",
   "metadata": {},
   "source": [
    "# Text Preprocessing"
   ]
  },
  {
   "cell_type": "code",
   "execution_count": 59,
   "metadata": {},
   "outputs": [
    {
     "data": {
      "text/plain": [
       "['fencing of riat market in kanyikela ward.',\n",
       " 'more info : Location : KENYA BidDate : 6/15/2020 Tender Country : KENYA Tender\\nType : Tenders Tendering Authority : County Government Of Homa Bay Tendering\\nAuthority Address : p.o box: 469-40300, homa-bay county, Financier : Self\\nFunded']"
      ]
     },
     "execution_count": 59,
     "metadata": {},
     "output_type": "execute_result"
    }
   ],
   "source": [
    "import numpy as np\n",
    "from nltk.tokenize import sent_tokenize \n",
    "sentences = []\n",
    "sentences.append(sent_tokenize(text))\n",
    "\n",
    "sentences = [y for x in sentences for y in x]\n",
    "sentences"
   ]
  },
  {
   "cell_type": "code",
   "execution_count": 19,
   "metadata": {},
   "outputs": [],
   "source": [
    "import nltk\n",
    "from nltk.tokenize import sent_tokenize\n",
    "sent = []\n",
    "for i in data['text']:\n",
    "    sent.append(sent_tokenize(i))"
   ]
  },
  {
   "cell_type": "code",
   "execution_count": 60,
   "metadata": {},
   "outputs": [
    {
     "name": "stderr",
     "output_type": "stream",
     "text": [
      "/Applications/anaconda3/lib/python3.7/site-packages/ipykernel_launcher.py:1: FutureWarning: The default value of regex will change from True to False in a future version.\n",
      "  \"\"\"Entry point for launching an IPython kernel.\n"
     ]
    },
    {
     "data": {
      "text/plain": [
       "['fencing of riat market in kanyikela ward ',\n",
       " 'more info   location   kenya biddate             tender country   kenya tender type   tenders tendering authority   county government of homa bay tendering authority address   p o box             homa bay county  financier   self funded']"
      ]
     },
     "execution_count": 60,
     "metadata": {},
     "output_type": "execute_result"
    }
   ],
   "source": [
    "clean_sentences = pd.Series(sentences).str.replace(\"[^a-zA-Z]\", \" \")\n",
    "\n",
    "clean_sentences = [s.lower() for s in clean_sentences]\n",
    "\n",
    "clean_sentences"
   ]
  },
  {
   "cell_type": "code",
   "execution_count": 61,
   "metadata": {},
   "outputs": [
    {
     "name": "stderr",
     "output_type": "stream",
     "text": [
      "[nltk_data] Downloading package stopwords to /Users/kiwi/nltk_data...\n",
      "[nltk_data]   Package stopwords is already up-to-date!\n"
     ]
    },
    {
     "data": {
      "text/plain": [
       "['fencing riat market kanyikela ward',\n",
       " 'info location kenya biddate tender country kenya tender type tenders tendering authority county government homa bay tendering authority address p box homa bay county financier self funded']"
      ]
     },
     "execution_count": 61,
     "metadata": {},
     "output_type": "execute_result"
    }
   ],
   "source": [
    "nltk.download('stopwords')\n",
    "from nltk.corpus import stopwords\n",
    "stop_words = stopwords.words('english')\n",
    "\n",
    "def remove_stopwords(sen):\n",
    "    sen_new = \" \".join([i for i in sen if i not in stop_words])\n",
    "    return sen_new\n",
    "\n",
    "clean_sentences = [remove_stopwords(r.split()) for r in clean_sentences]\n",
    "\n",
    "clean_sentences"
   ]
  },
  {
   "cell_type": "code",
   "execution_count": 64,
   "metadata": {},
   "outputs": [],
   "source": [
    "import tensorflow as tf\n",
    "from tensorflow.keras.preprocessing.text import one_hot\n",
    "vocab_size=10000"
   ]
  },
  {
   "cell_type": "code",
   "execution_count": 65,
   "metadata": {},
   "outputs": [
    {
     "name": "stdout",
     "output_type": "stream",
     "text": [
      "[[9627, 106, 2622, 9096, 2190], [4670, 5137, 3890, 2406, 7575, 7156, 3890, 7575, 5228, 6336, 731, 6558, 9505, 1985, 6872, 5165, 731, 6558, 7432, 4424, 641, 6872, 5165, 9505, 3774, 8488, 6343]]\n"
     ]
    }
   ],
   "source": [
    "onehot_rep=[one_hot(words,vocab_size) for words in clean_sentences]\n",
    "print(onehot_rep)"
   ]
  },
  {
   "cell_type": "code",
   "execution_count": 66,
   "metadata": {},
   "outputs": [],
   "source": [
    "from tensorflow.keras.preprocessing.sequence import pad_sequences\n",
    "from tensorflow.keras import Sequential\n",
    "from tensorflow.keras.layers import Embedding"
   ]
  },
  {
   "cell_type": "code",
   "execution_count": 67,
   "metadata": {},
   "outputs": [
    {
     "name": "stdout",
     "output_type": "stream",
     "text": [
      "biggest sentence has 187 words\n"
     ]
    }
   ],
   "source": [
    "largest_sen = max(len(sen) for sen in clean_sentences)\n",
    "print('biggest sentence has {} words'.format(largest_sen))"
   ]
  },
  {
   "cell_type": "code",
   "execution_count": 69,
   "metadata": {},
   "outputs": [
    {
     "name": "stdout",
     "output_type": "stream",
     "text": [
      "[[9627  106 2622 9096 2190    0    0    0    0    0    0    0    0    0\n",
      "     0    0    0    0    0    0    0    0    0    0    0    0    0    0\n",
      "     0    0    0    0    0    0    0    0    0    0    0    0    0    0\n",
      "     0    0    0    0    0    0    0    0    0    0    0    0    0    0\n",
      "     0    0    0    0    0    0    0    0    0    0    0    0    0    0\n",
      "     0    0    0    0    0    0    0    0    0    0    0    0    0    0\n",
      "     0    0    0    0    0    0    0    0    0    0    0    0    0    0\n",
      "     0    0]\n",
      " [4670 5137 3890 2406 7575 7156 3890 7575 5228 6336  731 6558 9505 1985\n",
      "  6872 5165  731 6558 7432 4424  641 6872 5165 9505 3774 8488 6343    0\n",
      "     0    0    0    0    0    0    0    0    0    0    0    0    0    0\n",
      "     0    0    0    0    0    0    0    0    0    0    0    0    0    0\n",
      "     0    0    0    0    0    0    0    0    0    0    0    0    0    0\n",
      "     0    0    0    0    0    0    0    0    0    0    0    0    0    0\n",
      "     0    0    0    0    0    0    0    0    0    0    0    0    0    0\n",
      "     0    0]]\n"
     ]
    }
   ],
   "source": [
    "sent_length=100\n",
    "embedded_clean_sentence=pad_sequences(onehot_rep,maxlen=sent_length,padding=\"post\") \n",
    "print(embedded_clean_sentence)"
   ]
  },
  {
   "cell_type": "code",
   "execution_count": 70,
   "metadata": {},
   "outputs": [],
   "source": [
    "dim_out=10"
   ]
  },
  {
   "cell_type": "code",
   "execution_count": 71,
   "metadata": {},
   "outputs": [
    {
     "name": "stdout",
     "output_type": "stream",
     "text": [
      "Model: \"sequential\"\n",
      "_________________________________________________________________\n",
      "Layer (type)                 Output Shape              Param #   \n",
      "=================================================================\n",
      "embedding (Embedding)        (None, 100, 10)           100000    \n",
      "=================================================================\n",
      "Total params: 100,000\n",
      "Trainable params: 100,000\n",
      "Non-trainable params: 0\n",
      "_________________________________________________________________\n"
     ]
    }
   ],
   "source": [
    "model=Sequential()\n",
    "model.add(Embedding(vocab_size,dim_out,input_length=sent_length))\n",
    "model.compile('adam','mse')\n",
    "model.summary()\n",
    "          "
   ]
  },
  {
   "cell_type": "code",
   "execution_count": 72,
   "metadata": {},
   "outputs": [
    {
     "data": {
      "text/plain": [
       "array([[[ 0.02403898, -0.01315297, -0.00192408, ..., -0.01140522,\n",
       "         -0.0351954 ,  0.03767475],\n",
       "        [-0.0201929 , -0.00161691, -0.03170942, ..., -0.02881404,\n",
       "          0.03078179, -0.01153166],\n",
       "        [-0.02147831, -0.01107768,  0.02145064, ...,  0.04659727,\n",
       "         -0.03743734,  0.03358332],\n",
       "        ...,\n",
       "        [ 0.04469821,  0.04420601,  0.03773823, ...,  0.04062197,\n",
       "         -0.01421762, -0.02415187],\n",
       "        [ 0.04469821,  0.04420601,  0.03773823, ...,  0.04062197,\n",
       "         -0.01421762, -0.02415187],\n",
       "        [ 0.04469821,  0.04420601,  0.03773823, ...,  0.04062197,\n",
       "         -0.01421762, -0.02415187]],\n",
       "\n",
       "       [[-0.01939319,  0.01450567,  0.02320902, ...,  0.04751522,\n",
       "          0.01038108,  0.02020261],\n",
       "        [ 0.01470636,  0.04832479, -0.02218417, ...,  0.01556036,\n",
       "          0.01393363,  0.03201653],\n",
       "        [-0.0101219 , -0.02710956,  0.03791827, ..., -0.02992747,\n",
       "          0.04716932,  0.02320078],\n",
       "        ...,\n",
       "        [ 0.04469821,  0.04420601,  0.03773823, ...,  0.04062197,\n",
       "         -0.01421762, -0.02415187],\n",
       "        [ 0.04469821,  0.04420601,  0.03773823, ...,  0.04062197,\n",
       "         -0.01421762, -0.02415187],\n",
       "        [ 0.04469821,  0.04420601,  0.03773823, ...,  0.04062197,\n",
       "         -0.01421762, -0.02415187]]], dtype=float32)"
      ]
     },
     "execution_count": 72,
     "metadata": {},
     "output_type": "execute_result"
    }
   ],
   "source": [
    "model.predict(embedded_clean_sentence)"
   ]
  },
  {
   "cell_type": "code",
   "execution_count": 73,
   "metadata": {},
   "outputs": [
    {
     "data": {
      "text/plain": [
       "'info location kenya biddate tender country kenya tender type tenders tendering authority county government homa bay tendering authority address p box homa bay county financier self funded'"
      ]
     },
     "execution_count": 73,
     "metadata": {},
     "output_type": "execute_result"
    }
   ],
   "source": [
    "clean_sentences[1]"
   ]
  },
  {
   "cell_type": "code",
   "execution_count": 74,
   "metadata": {},
   "outputs": [
    {
     "data": {
      "text/plain": [
       "array([4670, 5137, 3890, 2406, 7575, 7156, 3890, 7575, 5228, 6336,  731,\n",
       "       6558, 9505, 1985, 6872, 5165,  731, 6558, 7432, 4424,  641, 6872,\n",
       "       5165, 9505, 3774, 8488, 6343,    0,    0,    0,    0,    0,    0,\n",
       "          0,    0,    0,    0,    0,    0,    0,    0,    0,    0,    0,\n",
       "          0,    0,    0,    0,    0,    0,    0,    0,    0,    0,    0,\n",
       "          0,    0,    0,    0,    0,    0,    0,    0,    0,    0,    0,\n",
       "          0,    0,    0,    0,    0,    0,    0,    0,    0,    0,    0,\n",
       "          0,    0,    0,    0,    0,    0,    0,    0,    0,    0,    0,\n",
       "          0,    0,    0,    0,    0,    0,    0,    0,    0,    0,    0,\n",
       "          0], dtype=int32)"
      ]
     },
     "execution_count": 74,
     "metadata": {},
     "output_type": "execute_result"
    }
   ],
   "source": [
    "embedded_clean_sentence[1]"
   ]
  },
  {
   "cell_type": "code",
   "execution_count": 75,
   "metadata": {},
   "outputs": [],
   "source": [
    "arary_1=model.predict(embedded_clean_sentence)"
   ]
  },
  {
   "cell_type": "code",
   "execution_count": 76,
   "metadata": {},
   "outputs": [
    {
     "data": {
      "text/plain": [
       "21.045921"
      ]
     },
     "execution_count": 76,
     "metadata": {},
     "output_type": "execute_result"
    }
   ],
   "source": [
    "weight=np.sum(arary_1[0])\n",
    "weight"
   ]
  },
  {
   "cell_type": "code",
   "execution_count": 77,
   "metadata": {},
   "outputs": [],
   "source": [
    "weight_list=[]\n",
    "sentence_list=[]\n",
    "for i in range(0,len(arary_1)):\n",
    "    weight_list.append(np.sum(arary_1[i]))\n",
    "    sentence_list.append(clean_sentences[i])"
   ]
  },
  {
   "cell_type": "code",
   "execution_count": 78,
   "metadata": {},
   "outputs": [
    {
     "data": {
      "text/plain": [
       "[21.045921, 16.777779]"
      ]
     },
     "execution_count": 78,
     "metadata": {},
     "output_type": "execute_result"
    }
   ],
   "source": [
    "weight_list"
   ]
  },
  {
   "cell_type": "code",
   "execution_count": 79,
   "metadata": {},
   "outputs": [
    {
     "data": {
      "text/plain": [
       "['fencing riat market kanyikela ward',\n",
       " 'info location kenya biddate tender country kenya tender type tenders tendering authority county government homa bay tendering authority address p box homa bay county financier self funded']"
      ]
     },
     "execution_count": 79,
     "metadata": {},
     "output_type": "execute_result"
    }
   ],
   "source": [
    "sentence_list"
   ]
  },
  {
   "cell_type": "code",
   "execution_count": 80,
   "metadata": {},
   "outputs": [],
   "source": [
    "df=pd.DataFrame()\n",
    "df['sentence']=sentence_list\n",
    "df['weight']=weight_list"
   ]
  },
  {
   "cell_type": "code",
   "execution_count": 81,
   "metadata": {},
   "outputs": [
    {
     "data": {
      "text/html": [
       "<div>\n",
       "<style scoped>\n",
       "    .dataframe tbody tr th:only-of-type {\n",
       "        vertical-align: middle;\n",
       "    }\n",
       "\n",
       "    .dataframe tbody tr th {\n",
       "        vertical-align: top;\n",
       "    }\n",
       "\n",
       "    .dataframe thead th {\n",
       "        text-align: right;\n",
       "    }\n",
       "</style>\n",
       "<table border=\"1\" class=\"dataframe\">\n",
       "  <thead>\n",
       "    <tr style=\"text-align: right;\">\n",
       "      <th></th>\n",
       "      <th>sentence</th>\n",
       "      <th>weight</th>\n",
       "    </tr>\n",
       "  </thead>\n",
       "  <tbody>\n",
       "    <tr>\n",
       "      <th>0</th>\n",
       "      <td>fencing riat market kanyikela ward</td>\n",
       "      <td>21.045921</td>\n",
       "    </tr>\n",
       "    <tr>\n",
       "      <th>1</th>\n",
       "      <td>info location kenya biddate tender country ken...</td>\n",
       "      <td>16.777779</td>\n",
       "    </tr>\n",
       "  </tbody>\n",
       "</table>\n",
       "</div>"
      ],
      "text/plain": [
       "                                            sentence     weight\n",
       "0                 fencing riat market kanyikela ward  21.045921\n",
       "1  info location kenya biddate tender country ken...  16.777779"
      ]
     },
     "execution_count": 81,
     "metadata": {},
     "output_type": "execute_result"
    }
   ],
   "source": [
    "df.sort_values(by='weight',ascending=False)"
   ]
  },
  {
   "cell_type": "code",
   "execution_count": 82,
   "metadata": {},
   "outputs": [
    {
     "data": {
      "text/plain": [
       "'fencing riat market kanyikela ward'"
      ]
     },
     "execution_count": 82,
     "metadata": {},
     "output_type": "execute_result"
    }
   ],
   "source": [
    "df['sentence'][0]"
   ]
  },
  {
   "cell_type": "code",
   "execution_count": 83,
   "metadata": {},
   "outputs": [],
   "source": [
    "vocab_size=10000\n",
    "dim_out=10\n",
    "sent_length=100\n",
    "model=Sequential()\n",
    "model.add(Embedding(vocab_size,dim_out,input_length=sent_length))\n",
    "model.compile('adam','mse')\n",
    "\n",
    "def remove_stopwords(sen):\n",
    "    sen_new = \" \".join([i for i in sen if i not in stop_words])\n",
    "    return sen_new\n",
    "\n",
    "def text_summarization(text):\n",
    "    sentences = []\n",
    "    sentences.append(sent_tokenize(text))\n",
    "    sentences = [y for x in sentences for y in x]\n",
    "    clean_sentences = pd.Series(sentences).str.replace(\"[^a-zA-Z]\", \" \")\n",
    "    clean_sentences = [s.lower() for s in clean_sentences]\n",
    "    clean_sentences = [remove_stopwords(r.split()) for r in clean_sentences]\n",
    "\n",
    "    vocab_size=10000\n",
    "    onehot_rep=[one_hot(words,vocab_size) for words in clean_sentences]\n",
    "    sent_length=100\n",
    "    embedded_clean_sentence=pad_sequences(onehot_rep,maxlen=sent_length,padding=\"post\") \n",
    "    arary_1=model.predict(embedded_clean_sentence)\n",
    "    weight_list=[]\n",
    "    sentence_list=[]\n",
    "    for i in range(0,len(arary_1)):\n",
    "        weight_list.append(np.sum(arary_1[i]))\n",
    "        sentence_list.append(clean_sentences[i])\n",
    "    df=pd.DataFrame()\n",
    "    df['sentence']=sentence_list\n",
    "    df['weight']=weight_list \n",
    "    \n",
    "    df.sort_values(by='weight',ascending=False)\n",
    " \n",
    "    return df['sentence'][0]"
   ]
  },
  {
   "cell_type": "code",
   "execution_count": 87,
   "metadata": {},
   "outputs": [
    {
     "name": "stderr",
     "output_type": "stream",
     "text": [
      "/Applications/anaconda3/lib/python3.7/site-packages/ipykernel_launcher.py:17: FutureWarning: The default value of regex will change from True to False in a future version.\n"
     ]
    }
   ],
   "source": [
    "data['summary']=data['text'].apply(text_summarization)\n",
    "df=data[['text','summary']]"
   ]
  },
  {
   "cell_type": "code",
   "execution_count": 88,
   "metadata": {},
   "outputs": [
    {
     "data": {
      "text/html": [
       "<div>\n",
       "<style scoped>\n",
       "    .dataframe tbody tr th:only-of-type {\n",
       "        vertical-align: middle;\n",
       "    }\n",
       "\n",
       "    .dataframe tbody tr th {\n",
       "        vertical-align: top;\n",
       "    }\n",
       "\n",
       "    .dataframe thead th {\n",
       "        text-align: right;\n",
       "    }\n",
       "</style>\n",
       "<table border=\"1\" class=\"dataframe\">\n",
       "  <thead>\n",
       "    <tr style=\"text-align: right;\">\n",
       "      <th></th>\n",
       "      <th>text</th>\n",
       "      <th>summary</th>\n",
       "    </tr>\n",
       "  </thead>\n",
       "  <tbody>\n",
       "    <tr>\n",
       "      <th>0</th>\n",
       "      <td>fencing of riat market in kanyikela ward.\\n\\nm...</td>\n",
       "      <td>fencing riat market kanyikela ward</td>\n",
       "    </tr>\n",
       "    <tr>\n",
       "      <th>1</th>\n",
       "      <td>VILNIUS, Jun 05, BNS - Visitors from low-risk ...</td>\n",
       "      <td>vilnius jun bns visitors low risk countries ou...</td>\n",
       "    </tr>\n",
       "    <tr>\n",
       "      <th>2</th>\n",
       "      <td>Every year, Georgia yard sale shoppers spend t...</td>\n",
       "      <td>every year georgia yard sale shoppers spend fi...</td>\n",
       "    </tr>\n",
       "    <tr>\n",
       "      <th>3</th>\n",
       "      <td>Adults have an opportunity to model good onlin...</td>\n",
       "      <td>adults opportunity model good online behavior ...</td>\n",
       "    </tr>\n",
       "    <tr>\n",
       "      <th>4</th>\n",
       "      <td>Company : OFFICE OF XINHE SUB-DISTRICT OFFICE,...</td>\n",
       "      <td>company office xinhe sub district office peopl...</td>\n",
       "    </tr>\n",
       "  </tbody>\n",
       "</table>\n",
       "</div>"
      ],
      "text/plain": [
       "                                                text  \\\n",
       "0  fencing of riat market in kanyikela ward.\\n\\nm...   \n",
       "1  VILNIUS, Jun 05, BNS - Visitors from low-risk ...   \n",
       "2  Every year, Georgia yard sale shoppers spend t...   \n",
       "3  Adults have an opportunity to model good onlin...   \n",
       "4  Company : OFFICE OF XINHE SUB-DISTRICT OFFICE,...   \n",
       "\n",
       "                                             summary  \n",
       "0                 fencing riat market kanyikela ward  \n",
       "1  vilnius jun bns visitors low risk countries ou...  \n",
       "2  every year georgia yard sale shoppers spend fi...  \n",
       "3  adults opportunity model good online behavior ...  \n",
       "4  company office xinhe sub district office peopl...  "
      ]
     },
     "execution_count": 88,
     "metadata": {},
     "output_type": "execute_result"
    }
   ],
   "source": [
    "df.head()"
   ]
  },
  {
   "cell_type": "code",
   "execution_count": null,
   "metadata": {},
   "outputs": [],
   "source": []
  },
  {
   "cell_type": "code",
   "execution_count": null,
   "metadata": {},
   "outputs": [],
   "source": []
  },
  {
   "cell_type": "code",
   "execution_count": null,
   "metadata": {},
   "outputs": [],
   "source": []
  },
  {
   "cell_type": "code",
   "execution_count": null,
   "metadata": {},
   "outputs": [],
   "source": []
  },
  {
   "cell_type": "code",
   "execution_count": null,
   "metadata": {},
   "outputs": [],
   "source": []
  },
  {
   "cell_type": "code",
   "execution_count": null,
   "metadata": {},
   "outputs": [],
   "source": []
  }
 ],
 "metadata": {
  "kernelspec": {
   "display_name": "Python 3",
   "language": "python",
   "name": "python3"
  },
  "language_info": {
   "codemirror_mode": {
    "name": "ipython",
    "version": 3
   },
   "file_extension": ".py",
   "mimetype": "text/x-python",
   "name": "python",
   "nbconvert_exporter": "python",
   "pygments_lexer": "ipython3",
   "version": "3.7.7"
  }
 },
 "nbformat": 4,
 "nbformat_minor": 4
}
